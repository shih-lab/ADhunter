{
  "nbformat": 4,
  "nbformat_minor": 0,
  "metadata": {
    "colab": {
      "provenance": [],
      "gpuType": "T4",
      "authorship_tag": "ABX9TyMkw9yuDcq5B5eBm2YHChD+",
      "include_colab_link": true
    },
    "kernelspec": {
      "name": "python3",
      "display_name": "Python 3"
    },
    "language_info": {
      "name": "python"
    },
    "accelerator": "GPU"
  },
  "cells": [
    {
      "cell_type": "markdown",
      "metadata": {
        "id": "view-in-github",
        "colab_type": "text"
      },
      "source": [
        "<a href=\"https://colab.research.google.com/github/lucaswaldburger/ADhunter/blob/main/run_ADhunter_colab.ipynb\" target=\"_parent\"><img src=\"https://colab.research.google.com/assets/colab-badge.svg\" alt=\"Open In Colab\"/></a>"
      ]
    },
    {
      "cell_type": "code",
      "source": [
        "!git clone https://github.com/shih-lab/ADhunter.git\n",
        "!pip install -q condacolab\n",
        "\n",
        "import condacolab\n",
        "condacolab.install()\n",
        "\n",
        "env_file = './ADhunter/environment.yml'\n",
        "!mamba env create -f {env_file} -y\n",
        "\n",
        "%cd /content/ADhunter/03-run/"
      ],
      "metadata": {
        "id": "rKc7OjKoNWlX",
        "collapsed": true
      },
      "execution_count": null,
      "outputs": []
    },
    {
      "cell_type": "code",
      "source": [
        "!conda run -n adhunter python run_ESM.py \\\n",
        "--fasta-file 'test.faa' \\\n",
        "--output-file 'test'"
      ],
      "metadata": {
        "collapsed": true,
        "id": "nW7N9xa6L7tr",
        "colab": {
          "base_uri": "https://localhost:8080/"
        },
        "outputId": "3a6dcec2-6553-4f88-964f-97a8892be2da"
      },
      "execution_count": 12,
      "outputs": [
        {
          "output_type": "stream",
          "name": "stdout",
          "text": [
            "Global seed set to 0\n",
            "\n",
            "  0%|          | 0/2 [00:00<?, ?it/s]\n",
            " 50%|█████     | 1/2 [00:04<00:04,  4.57s/it]\n",
            "100%|██████████| 2/2 [00:09<00:00,  4.90s/it]\n",
            "100%|██████████| 2/2 [00:09<00:00,  4.85s/it]\n",
            "\n"
          ]
        }
      ]
    },
    {
      "cell_type": "code",
      "source": [
        "!conda run -n adhunter python run_ADhunter.py \\\n",
        "  --embedding-file 'test.pkl' \\\n",
        "  --output-file 'test_predictions'"
      ],
      "metadata": {
        "id": "ZWjLvJo9Pz0f",
        "colab": {
          "base_uri": "https://localhost:8080/"
        },
        "outputId": "f53fdc6d-22c9-4af3-f463-f94b3b047fd2"
      },
      "execution_count": 13,
      "outputs": [
        {
          "output_type": "stream",
          "name": "stdout",
          "text": [
            "\n",
            "  0%|          | 0/20 [00:00<?, ?it/s]\n",
            " 50%|█████     | 10/20 [00:00<00:00, 91.60it/s]\n",
            "100%|██████████| 20/20 [00:00<00:00, 64.18it/s]\n",
            "100%|██████████| 20/20 [00:00<00:00, 67.14it/s]\n",
            "\n"
          ]
        }
      ]
    }
  ]
}