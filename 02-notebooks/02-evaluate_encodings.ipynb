{
 "cells": [
  {
   "cell_type": "code",
   "execution_count": null,
   "metadata": {},
   "outputs": [
    {
     "name": "stderr",
     "output_type": "stream",
     "text": [
      "/home/lucas/anaconda3/envs/adhunter/lib/python3.8/site-packages/torchvision/io/image.py:13: UserWarning: Failed to load image Python extension: '/home/lucas/anaconda3/envs/adhunter/lib/python3.8/site-packages/torchvision/image.so: undefined symbol: _ZN5torch3jit17parseSchemaOrNameERKNSt7__cxx1112basic_stringIcSt11char_traitsIcESaIcEEE'If you don't plan on using image functionality from `torchvision.io`, you can ignore this warning. Otherwise, there might be something wrong with your environment. Did you have `libjpeg` or `libpng` installed before building `torchvision` from source?\n",
      "  warn(\n",
      "Global seed set to 0\n"
     ]
    }
   ],
   "source": [
    "from utils import *\n",
    "\n",
    "NOTEBOOK_ID = '02'\n",
    "RUN_MODELS = False"
   ]
  },
  {
   "cell_type": "markdown",
   "metadata": {},
   "source": [
    "# encode sequences"
   ]
  },
  {
   "cell_type": "code",
   "execution_count": 2,
   "metadata": {},
   "outputs": [],
   "source": [
    "if not os.path.isfile(f'{ENCODING_DIR}/01-dataset/hummel_encodings.pkl'):\n",
    "    hummel_df = pd.read_csv(f'{TARGET_DIR}/01-dataset/hummel_preprocessed_Activity_500k_Rat.csv')[['AAseq','Activity_500k_Rat']]\n",
    "    hummel_df['onehot_encoding'] = hummel_df['AAseq'].apply(lambda x: one_hot_encode(x, flatten=False))\n",
    "    hummel_df['nlf_encoding'] = hummel_df['AAseq'].apply(lambda x: nlf_encode(x, flatten=False))\n",
    "    hummel_df['random_encoding'] = hummel_df['AAseq'].apply(lambda x: random_encode(x))\n",
    "    hummel_df['blosum_encoding'] = hummel_df['AAseq'].apply(lambda x: blosum_encode(x, flatten=False))\n",
    "    hummel_df.to_pickle(f'{ENCODING_DIR}/01-dataset/hummel_encodings.pkl')\n",
    "else:\n",
    "    hummel_df = pd.read_pickle(f'{ENCODING_DIR}/01-dataset/hummel_encodings_dedup.pkl')"
   ]
  },
  {
   "cell_type": "markdown",
   "metadata": {},
   "source": [
    "# train/test encodings"
   ]
  },
  {
   "cell_type": "code",
   "execution_count": 3,
   "metadata": {},
   "outputs": [],
   "source": [
    "if RUN_MODELS:\n",
    "    for state in range(1,11):\n",
    "        X = np.asarray([[AA_TO_I[aa] for aa in x] for x in hummel_df['AAseq'].to_numpy()])\n",
    "        y = hummel_df['Activity_500k_Rat'].to_numpy()\n",
    "        threshold = hummel_df['Activity_500k_Rat'].median()\n",
    "        dataset, _ = split_dataset(X,y,threshold,version='v1',scaler='standard',random_state=state)\n",
    "        train_ADhunter(dataset,out_dir=f'{ENCODING_DIR}/02-evaluate',out_name=f'hummel_onehot',version='v1',random_state=state)\n",
    "        test_ADhunter(dataset,out_dir=f'{ENCODING_DIR}/02-evaluate',out_name=f'hummel_onehot',version='v1',random_state=state)\n",
    "\n",
    "        X = np.vstack(hummel_df['random_encoding'].to_numpy())\n",
    "        dataset, _ = split_dataset(X,y,threshold,version='v1',scaler='standard',random_state=state)\n",
    "        train_ADhunter(dataset,out_dir=f'{ENCODING_DIR}/02-evaluate',out_name=f'hummel_random',version='v1',random_state=state)\n",
    "        test_ADhunter(dataset,out_dir=f'{ENCODING_DIR}/02-evaluate',out_name=f'hummel_random',version='v1',random_state=state)"
   ]
  },
  {
   "cell_type": "code",
   "execution_count": 4,
   "metadata": {},
   "outputs": [],
   "source": [
    "if RUN_MODELS:\n",
    "    for state in range(1,11):\n",
    "        X = np.asarray([[AA_TO_I[aa] for aa in x] for x in hummel_df['AAseq'].to_numpy()])\n",
    "        y = hummel_df['Activity_500k_Rat'].to_numpy()\n",
    "        threshold = hummel_df['Activity_500k_Rat'].median()\n",
    "        dataset, _ = split_dataset(X,y,threshold,version='v1',scaler='standard',random_state=state)\n",
    "        train_ADhunter(dataset,out_dir=f'{ENCODING_DIR}/02-evaluate',out_name=f'cnn_hummel_onehot',version='v1',random_state=state,num_res_blocks=0)\n",
    "        test_ADhunter(dataset,out_dir=f'{ENCODING_DIR}/02-evaluate',out_name=f'cnn_hummel_onehot',version='v1',random_state=state,num_res_blocks=0)\n",
    "\n",
    "        X = np.vstack(hummel_df['random_encoding'].to_numpy())\n",
    "        dataset, _ = split_dataset(X,y,threshold,version='v1',scaler='standard',random_state=state)\n",
    "        train_ADhunter(dataset,out_dir=f'{ENCODING_DIR}/02-evaluate',out_name=f'cnn_hummel_random',version='v1',random_state=state,num_res_blocks=0)\n",
    "        test_ADhunter(dataset,out_dir=f'{ENCODING_DIR}/02-evaluate',out_name=f'cnn_hummel_random',version='v1',random_state=state,num_res_blocks=0)"
   ]
  },
  {
   "cell_type": "code",
   "execution_count": 5,
   "metadata": {},
   "outputs": [],
   "source": [
    "if RUN_MODELS:\n",
    "    for state in range(1,11):\n",
    "        y = hummel_df['Activity_500k_Rat'].to_numpy()\n",
    "        threshold = hummel_df['Activity_500k_Rat'].median()\n",
    "\n",
    "        X = np.stack(hummel_df['onehot_encoding'].values)\n",
    "        dataset, _ = split_dataset(X,y,threshold,version='v2',scaler='standard',random_state=state)\n",
    "        train_ADhunter(dataset,out_dir=f'{ENCODING_DIR}/02-evaluate',out_name=f'hummel_onehot',version='v2',random_state=state)\n",
    "        test_ADhunter(dataset,out_dir=f'{ENCODING_DIR}/02-evaluate',out_name=f'hummel_onehot',version='v2',random_state=state)\n",
    "\n",
    "        X = np.stack(hummel_df['blosum_encoding'].values)\n",
    "        dataset, _ = split_dataset(X,y,threshold,version='v2',scaler='standard',random_state=state)\n",
    "        train_ADhunter(dataset,out_dir=f'{ENCODING_DIR}/02-evaluate',out_name=f'hummel_blosum',version='v2',random_state=state)\n",
    "        test_ADhunter(dataset,out_dir=f'{ENCODING_DIR}/02-evaluate',out_name=f'hummel_blosum',version='v2',random_state=state)\n",
    "\n",
    "        X = np.stack(hummel_df['nlf_encoding'].values)\n",
    "        dataset, _ = split_dataset(X,y,threshold,version='v2',scaler='standard',random_state=state)\n",
    "        train_ADhunter(dataset,out_dir=f'{ENCODING_DIR}/02-evaluate',out_name=f'hummel_nlf',version='v2',random_state=state)\n",
    "        test_ADhunter(dataset,out_dir=f'{ENCODING_DIR}/02-evaluate',out_name=f'hummel_nlf',version='v2',random_state=state)"
   ]
  },
  {
   "cell_type": "code",
   "execution_count": 6,
   "metadata": {},
   "outputs": [],
   "source": [
    "if RUN_MODELS:\n",
    "    for state in range(1,11):\n",
    "        y = hummel_df['Activity_500k_Rat'].to_numpy()\n",
    "        threshold = hummel_df['Activity_500k_Rat'].median()\n",
    "\n",
    "        X = np.stack(hummel_df['onehot_encoding'].values)\n",
    "        dataset, _ = split_dataset(X,y,threshold,version='v2',scaler='standard',random_state=state)\n",
    "        train_ADhunter(dataset,out_dir=f'{ENCODING_DIR}/02-evaluate',out_name=f'cnn_hummel_onehot_dedup',version='v2',random_state=state,num_res_blocks=0)\n",
    "        test_ADhunter(dataset,out_dir=f'{ENCODING_DIR}/02-evaluate',out_name=f'cnn_hummel_onehot_dedup',version='v2',random_state=state,num_res_blocks=0)\n",
    "\n",
    "        X = np.stack(hummel_df['blosum_encoding'].values)\n",
    "        dataset, _ = split_dataset(X,y,threshold,version='v2',scaler='standard',random_state=state)\n",
    "        train_ADhunter(dataset,out_dir=f'{ENCODING_DIR}/02-evaluate',out_name=f'cnn_hummel_blosum_dedup',version='v2',random_state=state,num_res_blocks=0)\n",
    "        test_ADhunter(dataset,out_dir=f'{ENCODING_DIR}/02-evaluate',out_name=f'cnn_hummel_blosum_dedup',version='v2',random_state=state,num_res_blocks=0)\n",
    "\n",
    "        X = np.stack(hummel_df['nlf_encoding'].values)\n",
    "        dataset, _ = split_dataset(X,y,threshold,version='v2',scaler='standard',random_state=state)\n",
    "        train_ADhunter(dataset,out_dir=f'{ENCODING_DIR}/02-evaluate',out_name=f'cnn_hummel_nlf_dedup',version='v2',random_state=state,num_res_blocks=0)\n",
    "        test_ADhunter(dataset,out_dir=f'{ENCODING_DIR}/02-evaluate',out_name=f'cnn_hummel_nlf_dedup',version='v2',random_state=state,num_res_blocks=0)"
   ]
  },
  {
   "cell_type": "code",
   "execution_count": 7,
   "metadata": {},
   "outputs": [],
   "source": [
    "# if not RUN_MODELS:\n",
    "#     for state in range(1,11):\n",
    "#         y = hummel_df['Activity_500k_Rat'].to_numpy()\n",
    "#         threshold = hummel_df['Activity_500k_Rat'].median()\n",
    "\n",
    "#         X = np.stack(hummel_df['onehot_encoding'].values)\n",
    "#         dataset, _ = split_dataset(X,y,threshold,version='v2',scaler='standard',random_state=state)\n",
    "#         train_CNN(dataset,out_dir=f'{ENCODING_DIR}/02-evaluate',out_name=f'cnn_hummel_onehof',random_state=state)\n",
    "#         test_CNN(dataset,out_dir=f'{ENCODING_DIR}/02-evaluate',out_name=f'cnn_hummel_onehof',random_state=state)\n",
    "\n",
    "#         X = np.stack(hummel_df['blosum_encoding'].values)\n",
    "#         dataset, _ = split_dataset(X,y,threshold,version='v2',scaler='standard',random_state=state)\n",
    "#         train_CNN(dataset,out_dir=f'{ENCODING_DIR}/02-evaluate',out_name=f'cnn_hummel_blosuf',random_state=state)\n",
    "#         test_CNN(dataset,out_dir=f'{ENCODING_DIR}/02-evaluate',out_name=f'cnn_hummel_blosuf',random_state=state)\n",
    "\n",
    "#         X = np.stack(hummel_df['nlf_encoding'].values)\n",
    "#         dataset, _ = split_dataset(X,y,threshold,version='v2',scaler='standard',random_state=state)\n",
    "#         train_CNN(dataset,out_dir=f'{ENCODING_DIR}/02-evaluate',out_name=f'cnn_hummel_nlf',random_state=state)\n",
    "#         test_CNN(dataset,out_dir=f'{ENCODING_DIR}/02-evaluate',out_name=f'cnn_hummel_nlf',random_state=state)"
   ]
  },
  {
   "cell_type": "markdown",
   "metadata": {},
   "source": [
    "# evaluate encodings"
   ]
  },
  {
   "cell_type": "code",
   "execution_count": 8,
   "metadata": {},
   "outputs": [
    {
     "data": {
      "text/html": [
       "<div>\n",
       "<style scoped>\n",
       "    .dataframe tbody tr th:only-of-type {\n",
       "        vertical-align: middle;\n",
       "    }\n",
       "\n",
       "    .dataframe tbody tr th {\n",
       "        vertical-align: top;\n",
       "    }\n",
       "\n",
       "    .dataframe thead th {\n",
       "        text-align: right;\n",
       "    }\n",
       "</style>\n",
       "<table border=\"1\" class=\"dataframe\">\n",
       "  <thead>\n",
       "    <tr style=\"text-align: right;\">\n",
       "      <th></th>\n",
       "      <th>y_test_hat</th>\n",
       "      <th>y_test</th>\n",
       "      <th>y_bin_test</th>\n",
       "      <th>best_thresh</th>\n",
       "      <th>params</th>\n",
       "      <th>state</th>\n",
       "    </tr>\n",
       "  </thead>\n",
       "  <tbody>\n",
       "    <tr>\n",
       "      <th>0</th>\n",
       "      <td>0.57</td>\n",
       "      <td>0.07</td>\n",
       "      <td>1.00</td>\n",
       "      <td>0.15</td>\n",
       "      <td>3D cnn_nlf_dedup</td>\n",
       "      <td>10</td>\n",
       "    </tr>\n",
       "    <tr>\n",
       "      <th>1</th>\n",
       "      <td>1.19</td>\n",
       "      <td>2.55</td>\n",
       "      <td>1.00</td>\n",
       "      <td>0.15</td>\n",
       "      <td>3D cnn_nlf_dedup</td>\n",
       "      <td>10</td>\n",
       "    </tr>\n",
       "    <tr>\n",
       "      <th>2</th>\n",
       "      <td>0.46</td>\n",
       "      <td>0.29</td>\n",
       "      <td>1.00</td>\n",
       "      <td>0.15</td>\n",
       "      <td>3D cnn_nlf_dedup</td>\n",
       "      <td>10</td>\n",
       "    </tr>\n",
       "    <tr>\n",
       "      <th>3</th>\n",
       "      <td>-0.59</td>\n",
       "      <td>-1.61</td>\n",
       "      <td>0.00</td>\n",
       "      <td>0.15</td>\n",
       "      <td>3D cnn_nlf_dedup</td>\n",
       "      <td>10</td>\n",
       "    </tr>\n",
       "    <tr>\n",
       "      <th>4</th>\n",
       "      <td>0.15</td>\n",
       "      <td>-0.90</td>\n",
       "      <td>0.00</td>\n",
       "      <td>0.15</td>\n",
       "      <td>3D cnn_nlf_dedup</td>\n",
       "      <td>10</td>\n",
       "    </tr>\n",
       "    <tr>\n",
       "      <th>...</th>\n",
       "      <td>...</td>\n",
       "      <td>...</td>\n",
       "      <td>...</td>\n",
       "      <td>...</td>\n",
       "      <td>...</td>\n",
       "      <td>...</td>\n",
       "    </tr>\n",
       "    <tr>\n",
       "      <th>417069</th>\n",
       "      <td>-0.99</td>\n",
       "      <td>-0.62</td>\n",
       "      <td>0.00</td>\n",
       "      <td>-0.17</td>\n",
       "      <td>3D cnn_blosum</td>\n",
       "      <td>6</td>\n",
       "    </tr>\n",
       "    <tr>\n",
       "      <th>417070</th>\n",
       "      <td>1.34</td>\n",
       "      <td>1.98</td>\n",
       "      <td>1.00</td>\n",
       "      <td>-0.17</td>\n",
       "      <td>3D cnn_blosum</td>\n",
       "      <td>6</td>\n",
       "    </tr>\n",
       "    <tr>\n",
       "      <th>417071</th>\n",
       "      <td>-0.65</td>\n",
       "      <td>-0.79</td>\n",
       "      <td>0.00</td>\n",
       "      <td>-0.17</td>\n",
       "      <td>3D cnn_blosum</td>\n",
       "      <td>6</td>\n",
       "    </tr>\n",
       "    <tr>\n",
       "      <th>417072</th>\n",
       "      <td>-0.70</td>\n",
       "      <td>-0.19</td>\n",
       "      <td>0.00</td>\n",
       "      <td>-0.17</td>\n",
       "      <td>3D cnn_blosum</td>\n",
       "      <td>6</td>\n",
       "    </tr>\n",
       "    <tr>\n",
       "      <th>417073</th>\n",
       "      <td>-0.78</td>\n",
       "      <td>-0.79</td>\n",
       "      <td>0.00</td>\n",
       "      <td>-0.17</td>\n",
       "      <td>3D cnn_blosum</td>\n",
       "      <td>6</td>\n",
       "    </tr>\n",
       "  </tbody>\n",
       "</table>\n",
       "<p>140130 rows × 6 columns</p>\n",
       "</div>"
      ],
      "text/plain": [
       "        y_test_hat  y_test  y_bin_test  best_thresh            params  state\n",
       "0             0.57    0.07        1.00         0.15  3D cnn_nlf_dedup     10\n",
       "1             1.19    2.55        1.00         0.15  3D cnn_nlf_dedup     10\n",
       "2             0.46    0.29        1.00         0.15  3D cnn_nlf_dedup     10\n",
       "3            -0.59   -1.61        0.00         0.15  3D cnn_nlf_dedup     10\n",
       "4             0.15   -0.90        0.00         0.15  3D cnn_nlf_dedup     10\n",
       "...            ...     ...         ...          ...               ...    ...\n",
       "417069       -0.99   -0.62        0.00        -0.17     3D cnn_blosum      6\n",
       "417070        1.34    1.98        1.00        -0.17     3D cnn_blosum      6\n",
       "417071       -0.65   -0.79        0.00        -0.17     3D cnn_blosum      6\n",
       "417072       -0.70   -0.19        0.00        -0.17     3D cnn_blosum      6\n",
       "417073       -0.78   -0.79        0.00        -0.17     3D cnn_blosum      6\n",
       "\n",
       "[140130 rows x 6 columns]"
      ]
     },
     "execution_count": 8,
     "metadata": {},
     "output_type": "execute_result"
    }
   ],
   "source": [
    "_, test_df = parse_results(f'{ENCODING_DIR}/02-evaluate/03-results')\n",
    "test_df = test_df[test_df['params'].apply(lambda x: 'esm' not in x and 'cnn' in x)]\n",
    "test_df['params'] = test_df['params'].apply(lambda x: x.replace('hummel_','').replace('ADhunter_v1-','2D ').replace('ADhunter_v2-','3D '))\n",
    "test_df['state'] = test_df['params'].apply(lambda x: x.split('_state')[-1]).astype(int)\n",
    "test_df['params'] = test_df['params'].apply(lambda x: x.split('_state')[0])\n",
    "test_df"
   ]
  },
  {
   "cell_type": "code",
   "execution_count": 9,
   "metadata": {},
   "outputs": [
    {
     "data": {
      "image/png": "[encoded data removed]",
      "text/plain": [
       "<Figure size 300x200 with 1 Axes>"
      ]
     },
     "metadata": {},
     "output_type": "display_data"
    }
   ],
   "source": [
    "metrics_df = test_df[test_df['params'].apply(lambda x: '3D' in x and 'scaled' not in x and 'cnn' in x and 'dedup' not in x)].copy()\n",
    "metrics_df['params'] = metrics_df['params'].apply(lambda x: x.replace('3D ','').replace('blosum','BLOSUM').replace('nlf','NLF').replace('onehot','One-hot').replace('cnn_',''))\n",
    "metrics_df = metrics_df.groupby(['params','state'])[['y_test_hat','y_test']].agg(lambda x: list(x))\n",
    "metrics_df['pearson_r'] = metrics_df.apply(lambda x: pearsonr(x['y_test_hat'],x['y_test'])[0],axis=1)\n",
    "metrics_df['rmse'] = metrics_df.apply(lambda x: mean_squared_error(x['y_test_hat'],x['y_test'],squared=False),axis=1)\n",
    "metrics_df = metrics_df.reset_index()\n",
    "metrics_df.to_csv(f'{ENCODING_DIR}/simple_encoding_metrics.csv',index=False)\n",
    "\n",
    "fig = plt.subplots(figsize=(3,2))\n",
    "g = sns.barplot(data=metrics_df.query('state < 4').sort_values('rmse',ascending=False),x='params',y='rmse',color='lightgrey',errwidth=1,capsize=0.1)\n",
    "g.set(xlabel='Simple encoding',ylabel='RMSE')\n",
    "\n",
    "if SAVE_FIGURES:\n",
    "    fig.savefig(f'{FIGURE_DIR}/{NOTEBOOK_ID}-simple_encodings.png',dpi=400,transparent=False,bbox_inches='tight')"
   ]
  },
  {
   "cell_type": "code",
   "execution_count": 11,
   "metadata": {},
   "outputs": [
    {
     "data": {
      "text/html": [
       "<style type=\"text/css\">\n",
       "</style>\n",
       "<table id=\"T_bbd1b\">\n",
       "  <thead>\n",
       "    <tr>\n",
       "      <th class=\"blank level0\" >&nbsp;</th>\n",
       "      <th id=\"T_bbd1b_level0_col0\" class=\"col_heading level0 col0\" >pearson_r</th>\n",
       "      <th id=\"T_bbd1b_level0_col1\" class=\"col_heading level0 col1\" >rmse</th>\n",
       "    </tr>\n",
       "    <tr>\n",
       "      <th class=\"index_name level0\" >params</th>\n",
       "      <th class=\"blank col0\" >&nbsp;</th>\n",
       "      <th class=\"blank col1\" >&nbsp;</th>\n",
       "    </tr>\n",
       "  </thead>\n",
       "  <tbody>\n",
       "    <tr>\n",
       "      <th id=\"T_bbd1b_level0_row0\" class=\"row_heading level0 row0\" >BLOSUM</th>\n",
       "      <td id=\"T_bbd1b_row0_col0\" class=\"data row0 col0\" >0.729767</td>\n",
       "      <td id=\"T_bbd1b_row0_col1\" class=\"data row0 col1\" >0.692188</td>\n",
       "    </tr>\n",
       "    <tr>\n",
       "      <th id=\"T_bbd1b_level0_row1\" class=\"row_heading level0 row1\" >NLF</th>\n",
       "      <td id=\"T_bbd1b_row1_col0\" class=\"data row1 col0\" >0.698364</td>\n",
       "      <td id=\"T_bbd1b_row1_col1\" class=\"data row1 col1\" >0.721764</td>\n",
       "    </tr>\n",
       "    <tr>\n",
       "      <th id=\"T_bbd1b_level0_row2\" class=\"row_heading level0 row2\" >One-hot</th>\n",
       "      <td id=\"T_bbd1b_row2_col0\" class=\"data row2 col0\" >0.741668</td>\n",
       "      <td id=\"T_bbd1b_row2_col1\" class=\"data row2 col1\" >0.672260</td>\n",
       "    </tr>\n",
       "  </tbody>\n",
       "</table>\n"
      ],
      "text/plain": [
       "<pandas.io.formats.style.Styler at 0x7fd55070bbb0>"
      ]
     },
     "execution_count": 11,
     "metadata": {},
     "output_type": "execute_result"
    }
   ],
   "source": [
    "metrics_df.drop(columns=['y_test','y_test_hat','state']).groupby('params').mean().style"
   ]
  }
 ],
 "metadata": {
  "kernelspec": {
   "display_name": "adhunter",
   "language": "python",
   "name": "python3"
  },
  "language_info": {
   "codemirror_mode": {
    "name": "ipython",
    "version": 3
   },
   "file_extension": ".py",
   "mimetype": "text/x-python",
   "name": "python",
   "nbconvert_exporter": "python",
   "pygments_lexer": "ipython3",
   "version": "3.8.16"
  }
 },
 "nbformat": 4,
 "nbformat_minor": 2
}
