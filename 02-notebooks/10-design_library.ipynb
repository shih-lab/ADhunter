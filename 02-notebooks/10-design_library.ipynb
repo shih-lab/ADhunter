{
 "cells": [
  {
   "cell_type": "code",
   "execution_count": null,
   "metadata": {},
   "outputs": [
    {
     "name": "stderr",
     "output_type": "stream",
     "text": [
      "/home/lucas/anaconda3/envs/adhunter/lib/python3.8/site-packages/torchvision/io/image.py:13: UserWarning: Failed to load image Python extension: '/home/lucas/anaconda3/envs/adhunter/lib/python3.8/site-packages/torchvision/image.so: undefined symbol: _ZN5torch3jit17parseSchemaOrNameERKNSt7__cxx1112basic_stringIcSt11char_traitsIcESaIcEEE'If you don't plan on using image functionality from `torchvision.io`, you can ignore this warning. Otherwise, there might be something wrong with your environment. Did you have `libjpeg` or `libpng` installed before building `torchvision` from source?\n",
      "  warn(\n",
      "Global seed set to 0\n"
     ]
    }
   ],
   "source": [
    "from utils import *\n",
    "\n",
    "NOTEBOOK_ID = '10'\n",
    "RUN_MODELS = False"
   ]
  },
  {
   "cell_type": "code",
   "execution_count": 2,
   "metadata": {},
   "outputs": [],
   "source": [
    "# input_df = pd.read_pickle('../../04-OTHER/organize/02-misc/06-df.pkl')\n",
    "input_df = pd.read_pickle(f'{EMBEDDING_DIR}/01-dataset/esm2_t33_650M_UR50D-layer33-representations.pkl')\n",
    "activity = input_df['activity'].to_numpy()\n",
    "ACTIVITY_THRESHOLD = 80_000\n",
    "y_bin = (activity >= ACTIVITY_THRESHOLD).astype(np.int64).reshape(-1, 1)\n",
    "y_cont = activity.reshape(-1, 1)\n",
    "scaler = preprocessing.StandardScaler().fit(y_cont)\n",
    "y_cont = scaler.transform(y_cont)\n",
    "\n",
    "X = np.asarray([np.array(emb) for emb in input_df[f'esm2_t33_650M_UR50D']])\n",
    "train, val, test, idx = get_stratified_split(X, y_bin, y_cont, as_tensor=True)\n",
    "\n",
    "(X_train, y_bin_train, y_cont_train) = train\n",
    "(X_val, y_bin_val, y_cont_val) = val\n",
    "(X_test, y_bin_test, y_cont_test) = test\n",
    "(train_idx, val_idx, test_idx) = idx"
   ]
  },
  {
   "cell_type": "markdown",
   "metadata": {},
   "source": [
    "# select tiles from Hummel"
   ]
  },
  {
   "cell_type": "code",
   "execution_count": null,
   "metadata": {},
   "outputs": [],
   "source": [
    "query_df = pd.read_csv(f'{HAMMING_ENSEMBLE_DIR}/03-results/top_models.csv')\n",
    "df_filtered = pd.read_csv(f'{HAMMING_ENSEMBLE_DIR}/03-results/model_testing_filtered.csv').set_index('file')\n",
    "\n",
    "out_file = f'{HAMMING_ENSEMBLE_DIR}/03-results/ensemble_niklas_test.pkl'\n",
    "if not os.path.isfile(out_file):\n",
    "    predictions, uncertainty = get_uncertainty(X_test)\n",
    "    test_df = input_df.loc[test_idx].copy().reset_index(drop=True).rename(columns={'Activity_500k_Rat':'activity'})\n",
    "    test_df['prediction'] = predictions\n",
    "    print(pearsonr(test_df['activity'],test_df['prediction'])[0])\n",
    "    test_df['uncertainty'] = uncertainty\n",
    "    test_df.to_pickle(out_file)\n",
    "else:\n",
    "    test_df = pd.read_pickle(out_file)\n",
    "    test_df['activity_scaled'] = scaler.transform(test_df['activity'].to_numpy().reshape(-1,1)).flatten()\n",
    "    test_df['prediction_scaled'] = scaler.transform(test_df['prediction'].to_numpy().reshape(-1,1)).flatten()"
   ]
  },
  {
   "cell_type": "code",
   "execution_count": 4,
   "metadata": {},
   "outputs": [],
   "source": [
    "_, selected_indices = select_maximally_different_arrays(df_filtered.to_numpy(), 20)\n",
    "hits_df = df_filtered.reset_index()\n",
    "hits_df = hits_df.loc[selected_indices].set_index('file')\n",
    "query_df[query_df.file.isin(hits_df.index)].to_csv(f'{HAMMING_ENSEMBLE_DIR}/ADhunter_v2_ensemble_params_n20.csv',index=False)"
   ]
  },
  {
   "cell_type": "code",
   "execution_count": 5,
   "metadata": {},
   "outputs": [],
   "source": [
    "out_file = f'{LIBRARY_DIR}/hummel_test.csv'\n",
    "if not os.path.isfile(out_file):\n",
    "    test_df['diff'] = abs(test_df['activity'] - test_df['prediction'])\n",
    "    test_df['category'] = pd.cut(test_df['prediction'],600)\n",
    "    categories = test_df['category'].unique()\n",
    "    top_entries_list = []\n",
    "    for category in tqdm(categories):\n",
    "        top_entries = test_df[test_df['category'] == category].nsmallest(1, 'diff')\n",
    "        top_entries_list.append(top_entries)\n",
    "    top_entries_df = pd.concat(top_entries_list).reset_index(drop=True)\n",
    "    print(len(top_entries_df))\n",
    "    test_df['activity'] = scaler.fit_transform(test_df['activity'].to_numpy().reshape(-1,1))\n",
    "    test_df['prediction'] = scaler.fit_transform(test_df['prediction'].to_numpy().reshape(-1,1))\n",
    "    top_entries_df['activity'] = scaler.fit_transform(top_entries_df['activity'].to_numpy().reshape(-1,1))\n",
    "    top_entries_df['prediction'] = scaler.fit_transform(top_entries_df['prediction'].to_numpy().reshape(-1,1))\n",
    "    top_entries_df.to_csv(out_file,index=False)\n",
    "else:\n",
    "    top_entries_df = pd.read_csv(out_file)\n"
   ]
  },
  {
   "cell_type": "code",
   "execution_count": 6,
   "metadata": {},
   "outputs": [
    {
     "data": {
      "image/png": "[encoded data removed]",
      "text/plain": [
       "<Figure size 250x125 with 1 Axes>"
      ]
     },
     "metadata": {},
     "output_type": "display_data"
    }
   ],
   "source": [
    "plt.figure(figsize=(2.5,1.25))\n",
    "g = sns.scatterplot(test_df,x='prediction_scaled',y='activity_scaled',alpha=1,s=3,label='Hummel et al.',color='lightgrey',linewidth=0)\n",
    "sns.scatterplot(top_entries_df,x='prediction',y='activity',s=3,label='Selected',color=COLORS[10],linewidth=0)#color='#d89b47'\n",
    "g.set(xlabel='Predicted activity',ylabel='Hummel et al. activity')\n",
    "handles, labels = plt.gca().get_legend_handles_labels()\n",
    "order = [1,0]\n",
    "plt.legend([handles[idx] for idx in order],[labels[idx] for idx in order],frameon=False)\n",
    "\n",
    "for lh in g.legend_.legend_handles: \n",
    "    lh.set_alpha(1)\n",
    "    lh._sizes = [40]\n",
    "g.set_xlim(-2.1,3.1)\n",
    "\n",
    "g.xaxis.set_major_locator(ticker.MultipleLocator(base=1.0))\n",
    "g.yaxis.set_major_locator(ticker.MultipleLocator(base=1.0))\n",
    "sns.move_legend(g,'upper left',bbox_to_anchor=(-0.05, 1.0))\n",
    "if SAVE_FIGURES:\n",
    "    plt.savefig(f'{FIGURE_DIR}/{NOTEBOOK_ID}-hummel_selected.png',**FIGURE_PARAMS)\n",
    "    plt.savefig(f'{FIGURE_DIR}/{NOTEBOOK_ID}-hummel_selected.svg',transparent=True,bbox_inches='tight')"
   ]
  },
  {
   "cell_type": "markdown",
   "metadata": {},
   "source": [
    "# select tiles from mycocosm"
   ]
  },
  {
   "cell_type": "code",
   "execution_count": 7,
   "metadata": {},
   "outputs": [],
   "source": [
    "if not os.path.isfile(f'{LIBRARY_DIR}/mycocosm_test.csv'):\n",
    "    mycocosm_df = pd.read_csv(f'{MYCOCOSM_DIR}/clustered_90/output_combined.csv')\n",
    "    mycocosm_df['category'] = pd.cut(mycocosm_df['predictions'],10_500)\n",
    "    categories = mycocosm_df['category'].unique()\n",
    "    print(len(categories))\n",
    "    top_entries_list = []\n",
    "    for category in tqdm(categories):\n",
    "        top_entries = mycocosm_df[mycocosm_df['category'] == category].nlargest(1, 'uncertainty')\n",
    "        top_entries_list.append(top_entries)\n",
    "    top_entries_df = pd.concat(top_entries_list).reset_index(drop=True)\n",
    "    seqs = {}\n",
    "    subfiles = natsorted(glob(f'{MYCOCOSM_DIR}/clustered_90/tmp/*.fasta'), alg=ns.IGNORECASE)\n",
    "    for subfile in tqdm(subfiles):\n",
    "        fasta_sequences = SeqIO.parse(open(subfile),'fasta')\n",
    "        for fasta in fasta_sequences:\n",
    "            seqs[fasta.name] = str(fasta.seq)\n",
    "    top_entries_df['seq'] = top_entries_df['tile_id'].apply(lambda x: seqs[x])\n",
    "    top_entries_df.to_csv(f'{LIBRARY_DIR}/mycocosm_test.csv',index=False)\n",
    "else:\n",
    "    top_entries_df = pd.read_csv(f'{LIBRARY_DIR}/mycocosm_test.csv').drop(columns=['Unnamed: 0'])"
   ]
  },
  {
   "cell_type": "code",
   "execution_count": null,
   "metadata": {},
   "outputs": [
    {
     "name": "stdout",
     "output_type": "stream",
     "text": [
      "Starting density subsampling...\n"
     ]
    }
   ],
   "source": [
    "fig = plt.figure(figsize=(2.5,2.5))\n",
    "gs = fig.add_gridspec(6, 6)\n",
    "\n",
    "test = pd.read_csv(f'{MYCOCOSM_DIR}/03-clustered_90/output_combined.csv')\n",
    "\n",
    "ax_joint = fig.add_subplot(gs[1:6, 0:5])\n",
    "g = sns.scatterplot(data=density_subsample(test,'predictions','uncertainty'),x='predictions',y='uncertainty',s=3,color='lightgrey',edgecolor=None,ax=ax_joint,label='MycoCosm')\n",
    "sns.scatterplot(data=density_subsample(top_entries_df,'predictions','uncertainty'),x='predictions',y='uncertainty',s=3,color='#69764d',label='Selected',linewidth=0)\n",
    "g.xaxis.set_major_locator(ticker.MultipleLocator(base=1.0))\n",
    "g.set(xlabel='Predicted activity',ylabel='Uncertainty')\n",
    "ax_joint.spines['top'].set_visible(False)\n",
    "ax_joint.spines['right'].set_visible(False)\n",
    "g.legend(frameon=False)\n",
    "for lh in g.legend_.legend_handles: \n",
    "    lh.set_alpha(1)\n",
    "    lh._sizes = [40]\n",
    "\n",
    "ax_marg_x = fig.add_subplot(gs[0, 0:5], sharex=ax_joint)\n",
    "\n",
    "g = sns.kdeplot(data=test,x='predictions',ax=ax_marg_x,color='lightgrey',alpha=0.8,fill=True,edgecolor=None)\n",
    "g.set(xlabel=None,ylabel=None,yticklabels=[],yticks=[])\n",
    "ax_marg_x.xaxis.set_tick_params(labelbottom=False)\n",
    "# ax_marg_x.spines['top'].set_visible(False)\n",
    "# ax_marg_x.spines['right'].set_visible(False)\n",
    "# ax_marg_x.spines['left'].set_visible(False)\n",
    "\n",
    "ax_marg_y = fig.add_subplot(gs[1:6, 5],sharey=ax_joint)\n",
    "g = sns.kdeplot(data=test,y='uncertainty',ax=ax_marg_y,color='lightgrey',alpha=0.8,fill=True,edgecolor=None)\n",
    "g.set(ylabel=None,xlabel=None,xticklabels=[],xticks=[])\n",
    "ax_marg_y.yaxis.set_tick_params(labelbottom=False)\n",
    "# ax_marg_y.spines['top'].set_visible(False)\n",
    "# ax_marg_y.spines['right'].set_visible(False)\n",
    "# ax_marg_y.spines['bottom'].set_visible(False)\n",
    "\n",
    "plt.subplots_adjust(hspace=0, wspace=0)\n",
    "\n",
    "if SAVE_FIGURES:\n",
    "    # plt.savefig(f'{FIGURE_DIR}/{NOTEBOOK_ID}-new_plot_v1.png',transparent=True,bbox_inches='tight',dpi=1200)\n",
    "    plt.savefig(f'{FIGURE_DIR}/{NOTEBOOK_ID}-new_plot_v1.svg',transparent=True,bbox_inches='tight')"
   ]
  },
  {
   "cell_type": "markdown",
   "metadata": {},
   "source": [
    "# select tiles from Sanborn"
   ]
  },
  {
   "cell_type": "code",
   "execution_count": null,
   "metadata": {},
   "outputs": [],
   "source": [
    "paddle_df = pd.read_csv(f'{DATASET_DIR}/02-sanborn/paddle.csv').drop_duplicates(subset='protein sequence')\n",
    "if not os.path.isfile(f'{DATASET_DIR}/02-sanborn/paddle.faa'):\n",
    "    df_to_fasta(paddle_df,'Unnamed: 0','protein sequence',f'{DATASET_DIR}/02-paddle/paddle.faa')\n",
    "\n",
    "out_file = f'{LIBRARY_DIR}/sanborn_outputs.csv'\n",
    "if not os.path.isfile(out_file):\n",
    "    if RUN_MODELS:\n",
    "        # # create embeddings\n",
    "        print('\\t creating embeddings')\n",
    "        run_esm(in_file=f'{DATASET_DIR}/02-paddle/paddle.faa',out_dir=f'{MYCOCOSM_DIR}/clustered_90/tmp_embeddings')\n",
    "\n",
    "        # load embeddings\n",
    "        print('\\t loading embeddings')\n",
    "        tmp_df = fasta_to_df(f'{DATASET_DIR}/02-paddle/paddle.faa')\n",
    "        tmp_df['esm_embedding'] = tmp_df['tile_id'].apply(lambda x: get_embedding(f'{MYCOCOSM_DIR}/clustered_90/tmp_embeddings', x))\n",
    "\n",
    "        print('\\t running model')\n",
    "        # run model\n",
    "        X_test = torch.tensor(np.asarray([emb for emb in tmp_df['esm_embedding']]))\n",
    "        predictions, uncertainty = get_uncertainty(X_test)\n",
    "\n",
    "        # save output\n",
    "        print('\\t saving output')\n",
    "        tmp_df['predictions'] = predictions\n",
    "        tmp_df['uncertainty'] = uncertainty\n",
    "        tmp_df.drop(columns=['tile_seq','esm_embedding']).to_csv(out_file,index=False)\n",
    "        print('\\t deleting tmp files')\n",
    "\n",
    "        # delete embeddings\n",
    "        del_esm()\n",
    "        del tmp_df\n",
    "else:\n",
    "    output_df = pd.read_csv(out_file)"
   ]
  },
  {
   "cell_type": "code",
   "execution_count": null,
   "metadata": {},
   "outputs": [],
   "source": [
    "merged_df = output_df.merge(paddle_df,left_on='tile_id',right_on='Unnamed: 0')\n",
    "\n",
    "out_file = f'{LIBRARY_DIR}/sanborn_test.csv'\n",
    "if not os.path.isfile(out_file):\n",
    "    merged_df['category'] = pd.cut(merged_df['GFP average'],5_000)\n",
    "    categories = merged_df['category'].unique()\n",
    "    len(categories)\n",
    "\n",
    "    top_entries_list = []\n",
    "    for category in tqdm(categories):\n",
    "        top_entries = merged_df[merged_df['category'] == category].nlargest(1, 'uncertainty')\n",
    "        top_entries_list.append(top_entries)\n",
    "\n",
    "    top_entries_df = pd.concat(top_entries_list).reset_index(drop=True)\n",
    "    top_entries_df.to_csv(out_file,index=False)\n",
    "else:\n",
    "    top_entries_df = pd.read_csv(out_file)"
   ]
  },
  {
   "cell_type": "code",
   "execution_count": null,
   "metadata": {},
   "outputs": [],
   "source": [
    "plt.figure(figsize=(2.5,1.25))\n",
    "scaler = preprocessing.StandardScaler().fit(top_entries_df['GFP average'].to_numpy().reshape(-1, 1))\n",
    "merged_df['tmp'] = scaler.transform(merged_df['GFP average'].to_numpy().reshape(-1, 1))\n",
    "g = sns.scatterplot(data=merged_df,x='tmp',y='uncertainty',s=3,alpha=1,color='lightgray',label='Sanborn et al.',linewidth=0)\n",
    "top_entries_df['tmp'] = scaler.transform(top_entries_df['GFP average'].to_numpy().reshape(-1,1))\n",
    "sns.scatterplot(data=top_entries_df,x='tmp',y='uncertainty',s=3,color='#d89b47',label='Selected',linewidth=0)\n",
    "g.set(xlabel='Sanborn et al. activity',ylabel='Uncertainty')\n",
    "handles, labels = plt.gca().get_legend_handles_labels()\n",
    "order = [1,0]\n",
    "plt.legend([handles[idx] for idx in order],[labels[idx] for idx in order],frameon=False)\n",
    "\n",
    "for lh in g.legend_.legend_handles:\n",
    "    lh.set_alpha(1)\n",
    "    lh._sizes = [40]\n",
    "# g.xaxis.set_major_locator(ticker.MultipleLocator(base=1.0))\n",
    "# g.yaxis.set_major_locator(ticker.MultipleLocator(base=0.1))\n",
    "\n",
    "if SAVE_FIGURES:\n",
    "    plt.savefig(f'{FIGURE_DIR}/{NOTEBOOK_ID}-selected_uncertainty.png',**FIGURE_PARAMS)\n",
    "    plt.savefig(f'{FIGURE_DIR}/{NOTEBOOK_ID}-selected_uncertainty.svg',transparent=True,bbox_inches='tight')"
   ]
  },
  {
   "cell_type": "code",
   "execution_count": null,
   "metadata": {},
   "outputs": [],
   "source": [
    "tmp_df = pd.read_csv(f'{DATASET_DIR}/01-hummel/all_acts_with_empty_hummel.csv').rename(columns={'Activity_500k_Rat':'activity'})\n",
    "tmp_df = tmp_df[tmp_df['ArrayDNA'].apply(lambda x: len(x) == 53*3)]\n",
    "tmp_df['aa_seq'] = tmp_df['ArrayDNA'].apply(lambda x: str(Seq(x).translate()).replace('*',''))\n",
    "tmp_df = tmp_df.loc[(tmp_df['activity'] != 0.0) & (~np.isnan(tmp_df['activity']))]\n",
    "tmp_df = tmp_df.loc[tmp_df.loc[:, ['aa_seq', 'activity']].drop_duplicates().index].reset_index(drop=True)\n",
    "    \n",
    "hummel_df = pd.read_csv(f'{LIBRARY_DIR}/hummel_test.csv')\n",
    "hummel_df = hummel_df.merge(tmp_df[['aa_seq','ArrayDNA']],on=['aa_seq'])\n",
    "paddle_df = pd.read_csv(f'{LIBRARY_DIR}/sanborn_test.csv')\n",
    "out_file = f'{LIBRARY_DIR}/mycocosm_test_codonoptimized.csv'\n",
    "if not os.path.isfile(out_file):\n",
    "    mycocosm_df = pd.read_csv(f'{LIBRARY_DIR}/test.csv')\n",
    "    mycocosm_df['na_seq'] = mycocosm_df['seq'].apply(lambda x: codon_optimize(protein_to_dna(x)))\n",
    "    mycocosm_df.to_csv(out_file,index=False)\n",
    "else:\n",
    "    mycocosm_df = pd.read_csv(out_file)"
   ]
  },
  {
   "cell_type": "markdown",
   "metadata": {},
   "source": [
    "# combine and add overhangs"
   ]
  },
  {
   "cell_type": "code",
   "execution_count": null,
   "metadata": {},
   "outputs": [],
   "source": [
    "library_df = pd.concat([\n",
    "    paddle_df[['tile_id','protein sequence','DNA']].rename(columns={'tile_id':'ID','protein sequence':'aa_seq','DNA':'na_seq'}),\n",
    "    hummel_df[['ID','aa_seq','ArrayDNA']].rename(columns={'ArrayDNA':'na_seq'}),\n",
    "    mycocosm_df[['tile_id','seq','na_seq']].rename(columns={'tile_id':'ID','seq':'aa_seq'})\n",
    "]).reset_index(drop=True)\n",
    "\n",
    "library_df['seq_ID'] = ['eLW028-'+str(i).zfill(4) for i in library_df.index]\n",
    "assert all(library_df['na_seq'].apply(lambda x: str(Seq(x).translate()))  == library_df['aa_seq'])\n",
    "\n",
    "library_df['na_seq+overhangs'] = library_df['na_seq'].apply(lambda x: 'GCGGGCTCTACTTCATCGGCTAGC'+x.lower()+'TGATAACTAGCTGAGGGCCCG')\n",
    "\n",
    "out_file = f'{LIBRARY_DIR}/library_optimized.csv'\n",
    "if not os.path.isfile(out_file):\n",
    "    library_df[['seq_ID','aa_seq']].to_csv(out_file,index=False)\n",
    "    library_df.to_csv(f'{LIBRARY_DIR}/library.csv',index=False)\n",
    "    df_to_fasta(library_df,'seq_ID','aa_seq',f'{LIBRARY_DIR}/library_optimized.faa')\n",
    "    library_df[['seq_ID','na_seq+overhangs']].to_csv(f'{LIBRARY_DIR}/library_optimized_final.csv',index=False)\n",
    "else:\n",
    "    library_df = pd.read_csv(out_file)\n",
    "library_df"
   ]
  },
  {
   "cell_type": "code",
   "execution_count": null,
   "metadata": {},
   "outputs": [],
   "source": [
    "tmp_df = pd.DataFrame([len(mycocosm_df), len(hummel_df), len(paddle_df)],index=['MycoCosm','Sanborn','Hummel']).reset_index()\n",
    "tmp_df.columns = ['Dataset','Size']\n",
    "\n",
    "fig = plt.figure(figsize=(4,1.5))\n",
    "g = sns.barplot(data=tmp_df,\n",
    "            x='Size',\n",
    "            y='Dataset',\n",
    "            palette=['#69764d','#d89b47',COLORS[10]],\n",
    "            linewidth=0.5,\n",
    "            edgecolor='black')\n",
    "loc = ticker.MultipleLocator(base=1000)\n",
    "g.xaxis.set_major_locator(loc)\n",
    "g.set(xlabel='Number of tiles')\n",
    "    \n",
    "if SAVE_FIGURES:\n",
    "    fig.savefig(f'{FIGURE_DIR}/{NOTEBOOK_ID}-library_tiles.png',**FIGURE_PARAMS)"
   ]
  }
 ],
 "metadata": {
  "kernelspec": {
   "display_name": "adhunter",
   "language": "python",
   "name": "python3"
  },
  "language_info": {
   "codemirror_mode": {
    "name": "ipython",
    "version": 3
   },
   "file_extension": ".py",
   "mimetype": "text/x-python",
   "name": "python",
   "nbconvert_exporter": "python",
   "pygments_lexer": "ipython3",
   "version": "3.8.16"
  }
 },
 "nbformat": 4,
 "nbformat_minor": 2
}
