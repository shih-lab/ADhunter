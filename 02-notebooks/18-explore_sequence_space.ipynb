{
 "cells": [
  {
   "cell_type": "code",
   "execution_count": null,
   "metadata": {},
   "outputs": [],
   "source": [
    "from utils import *\n",
    "\n",
    "NOTEBOOK_ID = '18'\n",
    "RUN_DIAMOND = False"
   ]
  },
  {
   "cell_type": "markdown",
   "metadata": {},
   "source": [
    "# explore mycocosm sequences"
   ]
  },
  {
   "cell_type": "code",
   "execution_count": null,
   "metadata": {},
   "outputs": [],
   "source": [
    "if RUN_DIAMOND:\n",
    "    for csv_file in tqdm(glob(f'{DATASET_DIR}/03-waldburger/mycocosm_parsed/*csv')):\n",
    "        csv_to_fasta(csv_file, f'{DATASET_DIR}/03-waldburger/mycocosm_fasta')\n",
    "    os.system(f'cat {DATASET_DIR}/03-waldburger/mycocosm_fasta/*faa > {DATASET_DIR}/03-waldburger/mycocosm.faa')\n",
    "    os.system(f'diamond makedb --in {DATASET_DIR}/03-waldburger/mycocosm.faa -d {DATASET_DIR}/03-waldburger/mycocosm_db')\n",
    "    os.system(f'diamond blastp -d {DATASET_DIR}/03-waldburger/mycocosm_db.dmnd \\\n",
    "              -q {DATASET_DIR}/02-sanborn/paddle.faa -o {EXPLORE_DIR}/sanborn_matches.tsv --id 100')\n",
    "    os.system(f'diamond blastp -d {DATASET_DIR}/03-waldburger/mycocosm_db.dmnd \\\n",
    "        -q {DATASET_DIR}/01-hummel/niklas.faa -o {EXPLORE_DIR}/hummel_matches.tsv --id 100')\n",
    "    os.system(f'diamond blastp -d {DATASET_DIR}/03-waldburger/mycocosm_db.dmnd \\\n",
    "        -q {LIBRARY_DIR}/mycocosm_test.faa -o {EXPLORE_DIR}/mycocosm_matches.tsv --id 100')\n",
    "    os.system(f'diamond blastp -d {DATASET_DIR}/03-waldburger/mycocosm_db.dmnd \\\n",
    "        -q {DATASET_DIR}/04-morffy/morffy.faa -o {EXPLORE_DIR}/morffy_matches.tsv --id 100')\n",
    "    os.system(f'diamond blastp -d {DATASET_DIR}/03-waldburger/mycocosm_db.dmnd \\\n",
    "        -q {DATASET_DIR}/03-waldburger/harmonized.faa -o {EXPLORE_DIR}/harmonized_matches.tsv --id 100')"
   ]
  },
  {
   "cell_type": "code",
   "execution_count": 11,
   "metadata": {},
   "outputs": [],
   "source": [
    "if not os.path.isfile(f'{EXPLORE_DIR}/03-waldburger/mycocosm_frequency_final.csv'):\n",
    "    cols = ['qseqid', 'sseqid', 'pident', 'length', 'mismatch', 'gapopen','qstart', 'qend', 'sstart', 'send', 'evalue', 'bitscore']\n",
    "    hummel_matches_df = pd.read_csv(f'{EXPLORE_DIR}/hummel_matches.tsv',sep='\\t',names=cols)\n",
    "    hummel_matches_df = hummel_matches_df.query('length == 53').reset_index(drop=True)\n",
    "    hummel_matches_df['dataset'] = 'hummel'\n",
    "\n",
    "    sanborn_matches_df = pd.read_csv(f'{EXPLORE_DIR}/sanborn_matches.tsv',sep='\\t',names=cols)\n",
    "    sanborn_matches_df = sanborn_matches_df.query('length == 53').reset_index(drop=True)\n",
    "    sanborn_matches_df['dataset'] = 'sanborn'\n",
    "\n",
    "    morffy_matches_df = pd.read_csv(f'{EXPLORE_DIR}/morffy_matches.tsv',sep='\\t',names=cols)\n",
    "    morffy_matches_df = morffy_matches_df.query('length == 40').reset_index(drop=True)\n",
    "    morffy_matches_df['dataset'] = 'morffy'\n",
    "\n",
    "    mycocosm_matches_df = pd.read_csv(f'{EXPLORE_DIR}/mycocosm_matches.tsv',sep='\\t',names=cols)\n",
    "    mycocosm_matches_df = mycocosm_matches_df.query('length == 53').reset_index(drop=True)\n",
    "    mycocosm_matches_df['dataset'] = 'mycocosm'\n",
    "\n",
    "    harmonized_matches_df = pd.read_csv(f'{EXPLORE_DIR}/harmonized_matches.tsv',sep='\\t',names=cols)\n",
    "    harmonized_matches_df = harmonized_matches_df.query('length == 53').reset_index(drop=True)\n",
    "    harmonized_matches_df['dataset'] = 'harmonized'\n",
    "\n",
    "    matches_df = pd.concat([hummel_matches_df, sanborn_matches_df, morffy_matches_df, mycocosm_matches_df, harmonized_matches_df]).reset_index(drop=True)\n",
    "    matches_df['organism_id'] = matches_df['sseqid'].apply(lambda x: x.split('-')[0])\n",
    "    matches_df.to_csv(f'{EXPLORE_DIR}/fungi_matches_final.csv',index=False)\n",
    "\n",
    "    count_df = matches_df.groupby(['organism_id','dataset'])['qseqid'].count().reset_index().rename(columns={'qseqid':'count'})\n",
    "    count_df['log10count'] = np.log10(count_df['count'])\n",
    "    count_df = count_df.pivot(index='organism_id',columns='dataset',values='log10count').fillna(0.0)\n",
    "    count_df.reset_index().to_csv(f'{EXPLORE_DIR}/mycocosm_frequency_final.csv',index=False)\n",
    "else:\n",
    "    matches_df = pd.read_csv(f'{EXPLORE_DIR}/fungi_matches_final.csv')\n",
    "    count_df = pd.read_csv(f'{EXPLORE_DIR}/mycocosm_frequency_final.csv')"
   ]
  },
  {
   "cell_type": "code",
   "execution_count": 15,
   "metadata": {},
   "outputs": [
    {
     "data": {
      "text/plain": [
       "dataset\n",
       "harmonized    1071\n",
       "hummel          21\n",
       "morffy           9\n",
       "mycocosm      1050\n",
       "sanborn         69\n",
       "Name: organism_id, dtype: int64"
      ]
     },
     "execution_count": 15,
     "metadata": {},
     "output_type": "execute_result"
    }
   ],
   "source": [
    "count_df = matches_df.groupby(['organism_id','dataset'])['qseqid'].count().reset_index().rename(columns={'qseqid':'count'})\n",
    "count_df.groupby(['dataset'])['organism_id'].nunique()"
   ]
  },
  {
   "cell_type": "code",
   "execution_count": 16,
   "metadata": {},
   "outputs": [],
   "source": [
    "# mycocosm_set = set(count_df.query('dataset == \"mycocosm\"')['organism_id'].unique())\n",
    "# sanborn_set = set(count_df.query('dataset == \"sanborn\"')['organism_id'].unique())\n",
    "# hummel_set = set(count_df.query('dataset == \"hummel\"')['organism_id'].unique())\n",
    "\n",
    "# from matplotlib_venn import venn3_unweighted\n",
    "# venn3_unweighted(subsets = (mycocosm_set, sanborn_set, hummel_set), set_labels = ('mycocosm', 'sanborn', 'hummel'))"
   ]
  },
  {
   "cell_type": "code",
   "execution_count": 17,
   "metadata": {},
   "outputs": [
    {
     "data": {
      "text/html": [
       "<div>\n",
       "<style scoped>\n",
       "    .dataframe tbody tr th:only-of-type {\n",
       "        vertical-align: middle;\n",
       "    }\n",
       "\n",
       "    .dataframe tbody tr th {\n",
       "        vertical-align: top;\n",
       "    }\n",
       "\n",
       "    .dataframe thead th {\n",
       "        text-align: right;\n",
       "    }\n",
       "</style>\n",
       "<table border=\"1\" class=\"dataframe\">\n",
       "  <thead>\n",
       "    <tr style=\"text-align: right;\">\n",
       "      <th></th>\n",
       "      <th>organism_id</th>\n",
       "      <th>dataset</th>\n",
       "      <th>qseqid</th>\n",
       "    </tr>\n",
       "  </thead>\n",
       "  <tbody>\n",
       "    <tr>\n",
       "      <th>0</th>\n",
       "      <td>Aalte1</td>\n",
       "      <td>harmonized</td>\n",
       "      <td>2</td>\n",
       "    </tr>\n",
       "    <tr>\n",
       "      <th>1</th>\n",
       "      <td>Aalte1</td>\n",
       "      <td>mycocosm</td>\n",
       "      <td>2</td>\n",
       "    </tr>\n",
       "    <tr>\n",
       "      <th>2</th>\n",
       "      <td>Aaoar1</td>\n",
       "      <td>harmonized</td>\n",
       "      <td>31</td>\n",
       "    </tr>\n",
       "    <tr>\n",
       "      <th>3</th>\n",
       "      <td>Aaoar1</td>\n",
       "      <td>mycocosm</td>\n",
       "      <td>31</td>\n",
       "    </tr>\n",
       "    <tr>\n",
       "      <th>4</th>\n",
       "      <td>Abobi1</td>\n",
       "      <td>harmonized</td>\n",
       "      <td>15</td>\n",
       "    </tr>\n",
       "    <tr>\n",
       "      <th>...</th>\n",
       "      <td>...</td>\n",
       "      <td>...</td>\n",
       "      <td>...</td>\n",
       "    </tr>\n",
       "    <tr>\n",
       "      <th>2215</th>\n",
       "      <td>Zygro1</td>\n",
       "      <td>hummel</td>\n",
       "      <td>20</td>\n",
       "    </tr>\n",
       "    <tr>\n",
       "      <th>2216</th>\n",
       "      <td>Zygro1</td>\n",
       "      <td>sanborn</td>\n",
       "      <td>10</td>\n",
       "    </tr>\n",
       "    <tr>\n",
       "      <th>2217</th>\n",
       "      <td>Zygrou1</td>\n",
       "      <td>harmonized</td>\n",
       "      <td>20</td>\n",
       "    </tr>\n",
       "    <tr>\n",
       "      <th>2218</th>\n",
       "      <td>Zygrou1</td>\n",
       "      <td>hummel</td>\n",
       "      <td>20</td>\n",
       "    </tr>\n",
       "    <tr>\n",
       "      <th>2219</th>\n",
       "      <td>Zygrou1</td>\n",
       "      <td>sanborn</td>\n",
       "      <td>9</td>\n",
       "    </tr>\n",
       "  </tbody>\n",
       "</table>\n",
       "<p>2220 rows × 3 columns</p>\n",
       "</div>"
      ],
      "text/plain": [
       "     organism_id     dataset  qseqid\n",
       "0         Aalte1  harmonized       2\n",
       "1         Aalte1    mycocosm       2\n",
       "2         Aaoar1  harmonized      31\n",
       "3         Aaoar1    mycocosm      31\n",
       "4         Abobi1  harmonized      15\n",
       "...          ...         ...     ...\n",
       "2215      Zygro1      hummel      20\n",
       "2216      Zygro1     sanborn      10\n",
       "2217     Zygrou1  harmonized      20\n",
       "2218     Zygrou1      hummel      20\n",
       "2219     Zygrou1     sanborn       9\n",
       "\n",
       "[2220 rows x 3 columns]"
      ]
     },
     "execution_count": 17,
     "metadata": {},
     "output_type": "execute_result"
    }
   ],
   "source": [
    "matches_df.groupby(['organism_id','dataset'])['qseqid'].count().reset_index()"
   ]
  },
  {
   "cell_type": "code",
   "execution_count": 18,
   "metadata": {},
   "outputs": [
    {
     "data": {
      "text/plain": [
       "dataset\n",
       "harmonized    47943\n",
       "hummel        31433\n",
       "morffy           25\n",
       "mycocosm      13730\n",
       "sanborn       36942\n",
       "Name: organism_id, dtype: int64"
      ]
     },
     "execution_count": 18,
     "metadata": {},
     "output_type": "execute_result"
    }
   ],
   "source": [
    "matches_df.groupby(['dataset'])['organism_id'].count()"
   ]
  },
  {
   "cell_type": "markdown",
   "metadata": {},
   "source": [
    "# explore within test dataset"
   ]
  },
  {
   "cell_type": "code",
   "execution_count": null,
   "metadata": {},
   "outputs": [],
   "source": [
    "hummel_df = pd.read_csv(f'{TARGET_DIR}/01-preprocess_dataset/hummel_preprocessed_Activity_500k_Rat.csv')[['AAseq','Activity_500k_Rat']]\n",
    "X = np.asarray([[aa_to_i[aa] for aa in x] for x in hummel_df['AAseq']])\n",
    "y = hummel_df['Activity_500k_Rat'].to_numpy()\n",
    "threshold = hummel_df['Activity_500k_Rat'].median()\n",
    "dataset, idx = split_dataset(X,y,threshold,scaler='standard')\n",
    "_,_,test_idx = idx"
   ]
  },
  {
   "cell_type": "code",
   "execution_count": null,
   "metadata": {},
   "outputs": [],
   "source": [
    "\n",
    "\n",
    "\n",
    "\n",
    "if not os.path.isfile(f'{DATASET_DIR}/03-waldburger/test_df_distances.csv'):\n",
    "    test = pd.read_csv(f'{LIBRARY_DIR}/hummel_test.csv').rename(columns={'aa_seq':'AAseq'})\n",
    "    other_seqs = list(hummel_df[~hummel_df['AAseq'].isin(test['AAseq'])]['AAseq'])\n",
    "\n",
    "    test['min_distance'] = float('inf')\n",
    "    for idx,row in tqdm(test.iterrows(),total=len(test)):\n",
    "        test.loc[idx,'min_distance'] = min_hamming_distance(row['AAseq'],other_seqs)\n",
    "    test.to_csv(f'{DATASET_DIR}/03-waldburger/test_df_distances.csv',index=False)\n",
    "else:\n",
    "    test = pd.read_csv(f'{DATASET_DIR}/03-waldburger/test_df_distances.csv')\n",
    "\n",
    "if not os.path.isfile(f'{DATASET_DIR}/03-waldburger/mycocosm_distances.csv'):\n",
    "    mycocosm_df = pd.read_csv(f'{LIBRARY_DIR}/mycocosm_test.csv').drop(columns=['Unnamed: 0'])\n",
    "    test_idxs = np.load(f'{DATASET_DIR}/01-hummel/idx_test.npz')['arr']\n",
    "    hummel_df['is_test'] = hummel_df.index.isin(test_idx)\n",
    "    other_seqs = list(hummel_df.query('is_test == False')['AAseq'])\n",
    "\n",
    "    mycocosm_df['min_distance'] = float('inf')\n",
    "    for idx,row in tqdm(mycocosm_df.iterrows(),total=len(mycocosm_df)):\n",
    "        mycocosm_df.loc[idx,'min_distance'] = min_hamming_distance(row['seq'],other_seqs)\n",
    "    mycocosm_df.to_csv(f'{DATASET_DIR}/03-waldburger/mycocosm_distances.csv',index=False)\n",
    "else:\n",
    "    mycocosm_df = pd.read_csv(f'{DATASET_DIR}/03-waldburger/mycocosm_distances.csv')"
   ]
  },
  {
   "cell_type": "code",
   "execution_count": 8,
   "metadata": {},
   "outputs": [],
   "source": [
    "if not os.path.isfile(f'{DATASET_DIR}/03-waldburger/sanborn_df_distances.csv'):\n",
    "    sanborn_df = pd.read_csv(f'{LIBRARY_DIR}/sanborn_test.csv')\n",
    "    sanborn_df['min_distance'] = float('inf')\n",
    "    for idx,row in tqdm(sanborn_df.iterrows(),total=len(sanborn_df)):\n",
    "        sanborn_df.loc[idx,'min_distance'] = min_hamming_distance(row['protein sequence'],other_seqs)\n",
    "    sanborn_df.to_csv(f'{DATASET_DIR}/03-waldburger/sanborn_df_distances.csv')\n",
    "else:\n",
    "    sanborn_df = pd.read_csv(f'{DATASET_DIR}/03-waldburger/sanborn_df_distances.csv')"
   ]
  },
  {
   "cell_type": "code",
   "execution_count": null,
   "metadata": {},
   "outputs": [
    {
     "data": {
      "image/png": "[encoded data removed]",
      "text/plain": [
       "<Figure size 400x250 with 1 Axes>"
      ]
     },
     "metadata": {},
     "output_type": "display_data"
    }
   ],
   "source": [
    "plt.figure(figsize=(4,2.5))\n",
    "g = sns.histplot(data=test,x='min_distance',binwidth=1,label='Hummel Selected',element='step',color=COLORS[10],edgecolor='black',linewidth=0.5)\n",
    "sns.histplot(data=mycocosm_df,x='min_distance',binwidth=1,label='Mycocosm Selected',element='step',color='#69764d',edgecolor='black',linewidth=0.5)\n",
    "sns.histplot(data=sanborn_df,x='min_distance',binwidth=1,label='Sanborn Selected',element='step',color='#d89b47',edgecolor='black',linewidth=0.5)\n",
    "g.legend(frameon=False)\n",
    "sns.move_legend(g, \"upper left\")\n",
    "g.set(yscale='log',xlabel='Minimum Hamming Distance (AU)')\n",
    "\n",
    "g.xaxis.set_tick_params(width=0.5)\n",
    "g.yaxis.set_tick_params(width=0.5)\n",
    "for axis in ['top','bottom','left','right']:\n",
    "    g.spines[axis].set_linewidth(0.5)\n",
    "\n",
    "if SAVE_FIGURES:\n",
    "    plt.savefig(f'{FIGURE_DIR}/{NOTEBOOK_ID}-hamming.png',dpi=400,transparent=False,bbox_inches='tight')"
   ]
  }
 ],
 "metadata": {
  "kernelspec": {
   "display_name": "adhunter",
   "language": "python",
   "name": "python3"
  },
  "language_info": {
   "codemirror_mode": {
    "name": "ipython",
    "version": 3
   },
   "file_extension": ".py",
   "mimetype": "text/x-python",
   "name": "python",
   "nbconvert_exporter": "python",
   "pygments_lexer": "ipython3",
   "version": "3.8.16"
  }
 },
 "nbformat": 4,
 "nbformat_minor": 2
}
